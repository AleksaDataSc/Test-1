{
 "cells": [
  {
   "cell_type": "markdown",
   "id": "8602352a",
   "metadata": {},
   "source": [
    "#Data Science Tools and Ecosystem"
   ]
  },
  {
   "cell_type": "markdown",
   "id": "62f54dc5",
   "metadata": {},
   "source": [
    "This notebook provides a comprehensive overview of the Tools and Ecosystem within the field of Data Science."
   ]
  },
  {
   "cell_type": "markdown",
   "id": "235d0504",
   "metadata": {},
   "source": [
    "Some of the popular languages that Data Scientists use are:\n"
   ]
  },
  {
   "cell_type": "code",
   "execution_count": 2,
   "id": "f14cf395",
   "metadata": {},
   "outputs": [
    {
     "name": "stdout",
     "output_type": "stream",
     "text": [
      "1. Python\n",
      "2. R\n",
      "3. SQL\n"
     ]
    }
   ],
   "source": [
    "x = [\"Python\", \"R\", \"SQL\"]\n",
    "y = \"\\n\".join([f\"{i+1}. {x}\" for i, x in enumerate(x)])\n",
    "print(y)"
   ]
  },
  {
   "cell_type": "markdown",
   "id": "f40dba1a",
   "metadata": {},
   "source": [
    "Some of the commonly used libraries used by Data Scientists include:\n",
    "1.NumPy\n",
    "2.Pandas\n",
    "3.Matplotlib\n",
    "4.Seaborn\n",
    "5.Scikit-Learn\n",
    "6.TensorFlow\n",
    "7.Plotly"
   ]
  },
  {
   "cell_type": "markdown",
   "id": "dfbb8810",
   "metadata": {},
   "source": [
    "| Data Science Tools    |\n",
    "|-----------------------|\n",
    "| Jupyter Notebook      |\n",
    "| RStudio               |\n",
    "| Visual Studio Code    |"
   ]
  },
  {
   "cell_type": "markdown",
   "id": "b3f15e05",
   "metadata": {},
   "source": [
    "### Below are a few examples of evaluating arithmetic expressions in Python"
   ]
  },
  {
   "cell_type": "code",
   "execution_count": 8,
   "id": "0cb74952",
   "metadata": {},
   "outputs": [
    {
     "data": {
      "text/plain": [
       "5.0"
      ]
     },
     "execution_count": 8,
     "metadata": {},
     "output_type": "execute_result"
    }
   ],
   "source": [
    "5 + 3\n",
    "10 - 4\n",
    "6 * 7\n",
    "15 / 3"
   ]
  },
  {
   "cell_type": "code",
   "execution_count": 5,
   "id": "68b52dd3",
   "metadata": {},
   "outputs": [
    {
     "data": {
      "text/plain": [
       "17"
      ]
     },
     "execution_count": 5,
     "metadata": {},
     "output_type": "execute_result"
    }
   ],
   "source": [
    "# This a simple arithmetic expression to mutiply then add integers\n",
    "(3*4)+5"
   ]
  },
  {
   "cell_type": "code",
   "execution_count": 7,
   "id": "3741a9e1",
   "metadata": {},
   "outputs": [
    {
     "name": "stdout",
     "output_type": "stream",
     "text": [
      " 3.3333333333333335 hours\n"
     ]
    }
   ],
   "source": [
    "# This will convert 200 minutes to hours by diving by 60\n",
    "y = 200\n",
    "x = y/60\n",
    "print(f\" {x} hours\")"
   ]
  },
  {
   "cell_type": "markdown",
   "id": "090b3955",
   "metadata": {},
   "source": [
    "## Objectives:\n",
    "\n",
    "In this notebook, we have covered several key objectives, including:\n",
    "\n",
    "- List popular programming languages for Data Science.\n",
    "- Explore commonly used libraries by Data Scientists.\n",
    "- Introduce and explain basic arithmetic expressions.\n",
    "- Demonstrate how to convert minutes into hours using Python."
   ]
  },
  {
   "cell_type": "markdown",
   "id": "c3239b64",
   "metadata": {},
   "source": [
    "## Author\n",
    "Aleksa Neskovic"
   ]
  },
  {
   "cell_type": "code",
   "execution_count": null,
   "id": "6592a855",
   "metadata": {},
   "outputs": [],
   "source": []
  }
 ],
 "metadata": {
  "kernelspec": {
   "display_name": "Python 3 (ipykernel)",
   "language": "python",
   "name": "python3"
  },
  "language_info": {
   "codemirror_mode": {
    "name": "ipython",
    "version": 3
   },
   "file_extension": ".py",
   "mimetype": "text/x-python",
   "name": "python",
   "nbconvert_exporter": "python",
   "pygments_lexer": "ipython3",
   "version": "3.11.4"
  }
 },
 "nbformat": 4,
 "nbformat_minor": 5
}
